{
 "cells": [
  {
   "cell_type": "markdown",
   "source": [
    "# Data Preprocessing\n",
    "\n",
    "Di sesi pertama ini kita akan melakukan pengolahan dan pemilihan terhadap fitur atribut dari gambar. Atribut dari gambar sudah dikumpulkan dalam file list_attr_celeba.txt"
   ],
   "metadata": {
    "collapsed": false
   },
   "id": "23830fbae90fd8f6"
  },
  {
   "cell_type": "code",
   "outputs": [],
   "source": [
    "import os\n",
    "import pandas as pd\n",
    "import numpy as np\n",
    "import matplotlib.pyplot as plt\n",
    "import shutil\n",
    "import keras\n",
    "from keras import preprocessing\n",
    "from keras import layers"
   ],
   "metadata": {
    "collapsed": true,
    "ExecuteTime": {
     "end_time": "2024-03-11T07:44:29.141740Z",
     "start_time": "2024-03-11T07:44:24.923243Z"
    }
   },
   "id": "initial_id",
   "execution_count": 2
  },
  {
   "cell_type": "markdown",
   "source": [
    "## Membaca file attributes\n",
    "Data atribut tersimpan dalam bentuk file text dan terdapat pemisahan spasi antar kolom."
   ],
   "metadata": {
    "collapsed": false
   },
   "id": "1e61204b77cc74f6"
  },
  {
   "cell_type": "code",
   "outputs": [],
   "source": [
    "df = pd.read_csv(\"list_attr_celeba.txt\", sep=\"\\s+\", index_col=0, skiprows=1)"
   ],
   "metadata": {
    "collapsed": false,
    "ExecuteTime": {
     "end_time": "2024-03-11T07:44:30.954323Z",
     "start_time": "2024-03-11T07:44:30.023548Z"
    }
   },
   "id": "d804d63ebe5bfe9d",
   "execution_count": 3
  },
  {
   "cell_type": "code",
   "outputs": [
    {
     "data": {
      "text/plain": "            5_o_Clock_Shadow  Arched_Eyebrows  Attractive  Bags_Under_Eyes  \\\n000001.jpg                -1                1           1               -1   \n000002.jpg                -1               -1          -1                1   \n000003.jpg                -1               -1          -1               -1   \n000004.jpg                -1               -1           1               -1   \n000005.jpg                -1                1           1               -1   \n\n            Bald  Bangs  Big_Lips  Big_Nose  Black_Hair  Blond_Hair  ...  \\\n000001.jpg    -1     -1        -1        -1          -1          -1  ...   \n000002.jpg    -1     -1        -1         1          -1          -1  ...   \n000003.jpg    -1     -1         1        -1          -1          -1  ...   \n000004.jpg    -1     -1        -1        -1          -1          -1  ...   \n000005.jpg    -1     -1         1        -1          -1          -1  ...   \n\n            Sideburns  Smiling  Straight_Hair  Wavy_Hair  Wearing_Earrings  \\\n000001.jpg         -1        1              1         -1                 1   \n000002.jpg         -1        1             -1         -1                -1   \n000003.jpg         -1       -1             -1          1                -1   \n000004.jpg         -1       -1              1         -1                 1   \n000005.jpg         -1       -1             -1         -1                -1   \n\n            Wearing_Hat  Wearing_Lipstick  Wearing_Necklace  Wearing_Necktie  \\\n000001.jpg           -1                 1                -1               -1   \n000002.jpg           -1                -1                -1               -1   \n000003.jpg           -1                -1                -1               -1   \n000004.jpg           -1                 1                 1               -1   \n000005.jpg           -1                 1                -1               -1   \n\n            Young  \n000001.jpg      1  \n000002.jpg      1  \n000003.jpg      1  \n000004.jpg      1  \n000005.jpg      1  \n\n[5 rows x 40 columns]",
      "text/html": "<div>\n<style scoped>\n    .dataframe tbody tr th:only-of-type {\n        vertical-align: middle;\n    }\n\n    .dataframe tbody tr th {\n        vertical-align: top;\n    }\n\n    .dataframe thead th {\n        text-align: right;\n    }\n</style>\n<table border=\"1\" class=\"dataframe\">\n  <thead>\n    <tr style=\"text-align: right;\">\n      <th></th>\n      <th>5_o_Clock_Shadow</th>\n      <th>Arched_Eyebrows</th>\n      <th>Attractive</th>\n      <th>Bags_Under_Eyes</th>\n      <th>Bald</th>\n      <th>Bangs</th>\n      <th>Big_Lips</th>\n      <th>Big_Nose</th>\n      <th>Black_Hair</th>\n      <th>Blond_Hair</th>\n      <th>...</th>\n      <th>Sideburns</th>\n      <th>Smiling</th>\n      <th>Straight_Hair</th>\n      <th>Wavy_Hair</th>\n      <th>Wearing_Earrings</th>\n      <th>Wearing_Hat</th>\n      <th>Wearing_Lipstick</th>\n      <th>Wearing_Necklace</th>\n      <th>Wearing_Necktie</th>\n      <th>Young</th>\n    </tr>\n  </thead>\n  <tbody>\n    <tr>\n      <th>000001.jpg</th>\n      <td>-1</td>\n      <td>1</td>\n      <td>1</td>\n      <td>-1</td>\n      <td>-1</td>\n      <td>-1</td>\n      <td>-1</td>\n      <td>-1</td>\n      <td>-1</td>\n      <td>-1</td>\n      <td>...</td>\n      <td>-1</td>\n      <td>1</td>\n      <td>1</td>\n      <td>-1</td>\n      <td>1</td>\n      <td>-1</td>\n      <td>1</td>\n      <td>-1</td>\n      <td>-1</td>\n      <td>1</td>\n    </tr>\n    <tr>\n      <th>000002.jpg</th>\n      <td>-1</td>\n      <td>-1</td>\n      <td>-1</td>\n      <td>1</td>\n      <td>-1</td>\n      <td>-1</td>\n      <td>-1</td>\n      <td>1</td>\n      <td>-1</td>\n      <td>-1</td>\n      <td>...</td>\n      <td>-1</td>\n      <td>1</td>\n      <td>-1</td>\n      <td>-1</td>\n      <td>-1</td>\n      <td>-1</td>\n      <td>-1</td>\n      <td>-1</td>\n      <td>-1</td>\n      <td>1</td>\n    </tr>\n    <tr>\n      <th>000003.jpg</th>\n      <td>-1</td>\n      <td>-1</td>\n      <td>-1</td>\n      <td>-1</td>\n      <td>-1</td>\n      <td>-1</td>\n      <td>1</td>\n      <td>-1</td>\n      <td>-1</td>\n      <td>-1</td>\n      <td>...</td>\n      <td>-1</td>\n      <td>-1</td>\n      <td>-1</td>\n      <td>1</td>\n      <td>-1</td>\n      <td>-1</td>\n      <td>-1</td>\n      <td>-1</td>\n      <td>-1</td>\n      <td>1</td>\n    </tr>\n    <tr>\n      <th>000004.jpg</th>\n      <td>-1</td>\n      <td>-1</td>\n      <td>1</td>\n      <td>-1</td>\n      <td>-1</td>\n      <td>-1</td>\n      <td>-1</td>\n      <td>-1</td>\n      <td>-1</td>\n      <td>-1</td>\n      <td>...</td>\n      <td>-1</td>\n      <td>-1</td>\n      <td>1</td>\n      <td>-1</td>\n      <td>1</td>\n      <td>-1</td>\n      <td>1</td>\n      <td>1</td>\n      <td>-1</td>\n      <td>1</td>\n    </tr>\n    <tr>\n      <th>000005.jpg</th>\n      <td>-1</td>\n      <td>1</td>\n      <td>1</td>\n      <td>-1</td>\n      <td>-1</td>\n      <td>-1</td>\n      <td>1</td>\n      <td>-1</td>\n      <td>-1</td>\n      <td>-1</td>\n      <td>...</td>\n      <td>-1</td>\n      <td>-1</td>\n      <td>-1</td>\n      <td>-1</td>\n      <td>-1</td>\n      <td>-1</td>\n      <td>1</td>\n      <td>-1</td>\n      <td>-1</td>\n      <td>1</td>\n    </tr>\n  </tbody>\n</table>\n<p>5 rows × 40 columns</p>\n</div>"
     },
     "execution_count": 4,
     "metadata": {},
     "output_type": "execute_result"
    }
   ],
   "source": [
    "df.head(5)"
   ],
   "metadata": {
    "collapsed": false,
    "ExecuteTime": {
     "end_time": "2024-03-11T07:44:31.569513Z",
     "start_time": "2024-03-11T07:44:31.551776Z"
    }
   },
   "id": "df6f2c4f8d2deae1",
   "execution_count": 4
  },
  {
   "cell_type": "markdown",
   "source": [
    "## Menyeleksi kolom\n",
    "Fitur  yang diambil adalah kolom \"Male\", dimana memiliki nilai 1 untuk Male, dan -1 untuk Female.\n",
    "Jumlah baris juka perlu difilter agar sesuai dengan jumlah gambar pelatihan di folder Images yang berjumlah 5000."
   ],
   "metadata": {
    "collapsed": false
   },
   "id": "d331d58dde2f24c7"
  },
  {
   "cell_type": "code",
   "outputs": [
    {
     "data": {
      "text/plain": "(5000, 1)"
     },
     "execution_count": 5,
     "metadata": {},
     "output_type": "execute_result"
    }
   ],
   "source": [
    "df = df[['Male']]\n",
    "image_list = os.listdir(\"Images\")\n",
    "df = df[df.index.isin(image_list)]\n",
    "df.shape\n"
   ],
   "metadata": {
    "collapsed": false,
    "ExecuteTime": {
     "end_time": "2024-03-11T07:44:32.875162Z",
     "start_time": "2024-03-11T07:44:32.844532Z"
    }
   },
   "id": "ebd6ecfa18bea431",
   "execution_count": 5
  },
  {
   "cell_type": "code",
   "outputs": [
    {
     "data": {
      "text/plain": "            Male\n000051.jpg     1\n000052.jpg     1\n000065.jpg     1\n000166.jpg     1\n000198.jpg    -1",
      "text/html": "<div>\n<style scoped>\n    .dataframe tbody tr th:only-of-type {\n        vertical-align: middle;\n    }\n\n    .dataframe tbody tr th {\n        vertical-align: top;\n    }\n\n    .dataframe thead th {\n        text-align: right;\n    }\n</style>\n<table border=\"1\" class=\"dataframe\">\n  <thead>\n    <tr style=\"text-align: right;\">\n      <th></th>\n      <th>Male</th>\n    </tr>\n  </thead>\n  <tbody>\n    <tr>\n      <th>000051.jpg</th>\n      <td>1</td>\n    </tr>\n    <tr>\n      <th>000052.jpg</th>\n      <td>1</td>\n    </tr>\n    <tr>\n      <th>000065.jpg</th>\n      <td>1</td>\n    </tr>\n    <tr>\n      <th>000166.jpg</th>\n      <td>1</td>\n    </tr>\n    <tr>\n      <th>000198.jpg</th>\n      <td>-1</td>\n    </tr>\n  </tbody>\n</table>\n</div>"
     },
     "execution_count": 6,
     "metadata": {},
     "output_type": "execute_result"
    }
   ],
   "source": [
    "df.head()"
   ],
   "metadata": {
    "collapsed": false,
    "ExecuteTime": {
     "end_time": "2024-03-11T07:44:33.879340Z",
     "start_time": "2024-03-11T07:44:33.874901Z"
    }
   },
   "id": "900d67043c0651cc",
   "execution_count": 6
  },
  {
   "cell_type": "markdown",
   "source": [
    "## Menyimpan Atribut\n",
    "Atribut yang udah diseleksi akan disimpan ke dalam file \"male_attribute.csv\", yang nantinya akan diload untuk pembuatan datasets."
   ],
   "metadata": {
    "collapsed": false
   },
   "id": "584c98888dc2ab2f"
  },
  {
   "cell_type": "code",
   "outputs": [],
   "source": [
    "df.to_csv('male_attribute.csv', index_label=\"Image_Id\")"
   ],
   "metadata": {
    "collapsed": false,
    "ExecuteTime": {
     "end_time": "2024-03-11T07:44:34.678864Z",
     "start_time": "2024-03-11T07:44:34.666648Z"
    }
   },
   "id": "c4a61661f982504",
   "execution_count": 7
  },
  {
   "cell_type": "code",
   "outputs": [
    {
     "data": {
      "text/plain": "     Image_Id  Male\n0  000051.jpg     1\n1  000052.jpg     1\n2  000065.jpg     1\n3  000166.jpg     1\n4  000198.jpg    -1",
      "text/html": "<div>\n<style scoped>\n    .dataframe tbody tr th:only-of-type {\n        vertical-align: middle;\n    }\n\n    .dataframe tbody tr th {\n        vertical-align: top;\n    }\n\n    .dataframe thead th {\n        text-align: right;\n    }\n</style>\n<table border=\"1\" class=\"dataframe\">\n  <thead>\n    <tr style=\"text-align: right;\">\n      <th></th>\n      <th>Image_Id</th>\n      <th>Male</th>\n    </tr>\n  </thead>\n  <tbody>\n    <tr>\n      <th>0</th>\n      <td>000051.jpg</td>\n      <td>1</td>\n    </tr>\n    <tr>\n      <th>1</th>\n      <td>000052.jpg</td>\n      <td>1</td>\n    </tr>\n    <tr>\n      <th>2</th>\n      <td>000065.jpg</td>\n      <td>1</td>\n    </tr>\n    <tr>\n      <th>3</th>\n      <td>000166.jpg</td>\n      <td>1</td>\n    </tr>\n    <tr>\n      <th>4</th>\n      <td>000198.jpg</td>\n      <td>-1</td>\n    </tr>\n  </tbody>\n</table>\n</div>"
     },
     "execution_count": 8,
     "metadata": {},
     "output_type": "execute_result"
    }
   ],
   "source": [
    "df = pd.read_csv(\"male_attribute.csv\")\n",
    "df.head()"
   ],
   "metadata": {
    "collapsed": false,
    "ExecuteTime": {
     "end_time": "2024-03-11T07:44:35.558175Z",
     "start_time": "2024-03-11T07:44:35.547356Z"
    }
   },
   "id": "6d15d8ddeb8c93e",
   "execution_count": 8
  },
  {
   "cell_type": "code",
   "outputs": [],
   "source": [],
   "metadata": {
    "collapsed": false
   },
   "id": "5c953a8c1511f2ed"
  }
 ],
 "metadata": {
  "kernelspec": {
   "display_name": "Python 3",
   "language": "python",
   "name": "python3"
  },
  "language_info": {
   "codemirror_mode": {
    "name": "ipython",
    "version": 2
   },
   "file_extension": ".py",
   "mimetype": "text/x-python",
   "name": "python",
   "nbconvert_exporter": "python",
   "pygments_lexer": "ipython2",
   "version": "2.7.6"
  }
 },
 "nbformat": 4,
 "nbformat_minor": 5
}
